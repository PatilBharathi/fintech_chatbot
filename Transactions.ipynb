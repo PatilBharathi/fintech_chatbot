{
  "nbformat": 4,
  "nbformat_minor": 0,
  "metadata": {
    "colab": {
      "provenance": []
    },
    "kernelspec": {
      "name": "python3",
      "display_name": "Python 3"
    },
    "language_info": {
      "name": "python"
    }
  },
  "cells": [
    {
      "cell_type": "code",
      "execution_count": null,
      "metadata": {
        "colab": {
          "base_uri": "https://localhost:8080/"
        },
        "id": "s8rhsx3HVCC7",
        "outputId": "2c328410-0884-4c8b-b685-308765270f5a"
      },
      "outputs": [
        {
          "output_type": "stream",
          "name": "stdout",
          "text": [
            "transactions.csv has been created successfully!\n"
          ]
        }
      ],
      "source": [
        "import csv\n",
        "import random\n",
        "from datetime import datetime, timedelta\n",
        "\n",
        "# Define categories and descriptions\n",
        "categories = {\n",
        "    \"Groceries\": \"Supermarket Bill\",\n",
        "    \"Entertainment\": \"Movie Ticket\",\n",
        "    \"Rent\": \"Monthly Rent\",\n",
        "    \"Utilities\": \"Electricity Bill\",\n",
        "    \"Dining\": \"Restaurant Bill\",\n",
        "    \"Travel\": \"Flight Ticket\",\n",
        "    \"Shopping\": \"Online Purchase\",\n",
        "    \"Miscellaneous\": \"Other Expenses\"\n",
        "}\n",
        "\n",
        "# Generate random date\n",
        "def random_date(start_date, end_date):\n",
        "    delta = end_date - start_date\n",
        "    random_days = random.randint(0, delta.days)\n",
        "    return start_date + timedelta(days=random_days)\n",
        "\n",
        "# Generate dataset\n",
        "rows = []\n",
        "start_date = datetime(2023, 1, 1)\n",
        "end_date = datetime(2024, 1, 1)\n",
        "\n",
        "for i in range(1000):\n",
        "    account_id = f\"ACC{random.randint(100, 200)}\"\n",
        "    transaction_date = random_date(start_date, end_date).strftime('%Y-%m-%d')\n",
        "    amount = round(random.uniform(10, 2000), 2)\n",
        "    category = random.choice(list(categories.keys()))\n",
        "    description = categories[category]\n",
        "    rows.append([account_id, transaction_date, amount, category, description])\n",
        "\n",
        "# Save to CSV\n",
        "with open(\"transactions.csv\", \"w\", newline=\"\") as csvfile:\n",
        "    writer = csv.writer(csvfile)\n",
        "    writer.writerow([\"account_id\", \"transaction_date\", \"amount\", \"category\", \"description\"])  # Header\n",
        "    writer.writerows(rows)\n",
        "\n",
        "print(\"transactions.csv has been created successfully!\")"
      ]
    }
  ]
}